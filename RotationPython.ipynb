{
  "nbformat": 4,
  "nbformat_minor": 0,
  "metadata": {
    "colab": {
      "name": "RotationPython.ipynb",
      "version": "0.3.2",
      "provenance": [],
      "collapsed_sections": []
    },
    "kernelspec": {
      "name": "python3",
      "display_name": "Python 3"
    }
  },
  "cells": [
    {
      "metadata": {
        "id": "u76Iiybhld9k",
        "colab_type": "code",
        "colab": {
          "base_uri": "https://localhost:8080/",
          "height": 346
        },
        "outputId": "0ad7f3e8-c967-4031-9a09-116b66f79910"
      },
      "cell_type": "code",
      "source": [
        "from math import *\n",
        "import matplotlib.pyplot as plt\n",
        "from IPython.display import clear_output\n",
        "from matplotlib.animation import FuncAnimation\n",
        "import numpy as np\n",
        "from IPython.display import HTML\n",
        "\n",
        "fig, ax = plt.subplots()\n",
        "xdata, ydata = np.arange(-range_graph, range_graph, 10**(-precision)), np.arange(-range_graph , range_graph , 10**(-precision))\n",
        "ln, = plt.plot([], [], 'ro', animated=True)\n",
        "\n",
        "def init():\n",
        "    ax.set_xlim(-range_graph, range_graph)\n",
        "    ax.set_ylim(-range_graph, range_graph)\n",
        "    return ln,\n",
        "\n",
        "def rotate(point, angle):\n",
        "    px, py = point\n",
        "    qx = math.cos(angle) * px - math.sin(angle) * py\n",
        "    qy = math.sin(angle) * px + math.cos(angle) * py\n",
        "    return qx, qy\n",
        "\n",
        "def animate(frame):\n",
        "  \n",
        "    rotation = math.pi * int(frame) / 180\n",
        "    \n",
        "    x_vals_rot = []\n",
        "    y_vals_rot = []\n",
        "    \n",
        "    for x in xdata:\n",
        "\n",
        "      x_rot, y_rot = rotate((x,float(eval(eq))), rotation)\n",
        "\n",
        "      x_vals_rot.append(x_rot)\n",
        "      y_vals_rot.append(y_rot)  \n",
        "\n",
        "    ln.set_data(x_vals_rot, y_vals_rot)\n",
        "    \n",
        "    return ln,"
      ],
      "execution_count": 54,
      "outputs": [
        {
          "output_type": "display_data",
          "data": {
            "image/png": "[encoded data removed]",
            "text/plain": [
              "<Figure size 576x396 with 1 Axes>"
            ]
          },
          "metadata": {
            "tags": []
          }
        }
      ]
    },
    {
      "metadata": {
        "id": "J-WBvBNJxngo",
        "colab_type": "code",
        "outputId": "1e9d9bb1-cd64-44a7-aecd-2cdedaa70a7a",
        "colab": {
          "base_uri": "https://localhost:8080/",
          "height": 125
        }
      },
      "cell_type": "code",
      "source": [
        "eq = input(\"Math equation (format expression with variable x) - Ex. x**2: \")\n",
        "animated = input(\"Do you want to animate the rotation? (y or n): \")\n",
        "rotation = int(input(\"How much do you want to rotate the above equation by? (degrees): \"))\n",
        "precision = int(input(\"Precision?: \"))\n",
        "range_graph = int(input(\"Range?: \"))\n",
        "\n",
        "if animated == 'n':\n",
        "  \n",
        "  x_vals_rot, y_vals_rot = plot_with_rot(rotation, np.arange(-range_graph , range_graph , 10**(-precision)))\n",
        "  plt.plot(x_vals_rot, y_vals_rot)\n",
        "  \n",
        "else:\n",
        "\n",
        "  ani = FuncAnimation(fig, animate, frames=np.linspace(0, rotation, rotation),\n",
        "                  init_func=init, blit=True)"
      ],
      "execution_count": 57,
      "outputs": [
        {
          "output_type": "stream",
          "text": [
            "Math equation (format expression with variable x) - Ex. x**2: sin(2**x)\n",
            "Do you want to animate the rotation? (y or n): y\n",
            "How much do you want to rotate the above equation by? (degrees): 360\n",
            "Precision?: 2\n",
            "Range?: 50\n"
          ],
          "name": "stdout"
        }
      ]
    },
    {
      "metadata": {
        "id": "8J7kLcBXvycN",
        "colab_type": "code",
        "colab": {}
      },
      "cell_type": "code",
      "source": [
        "HTML(ani.to_html5_video())"
      ],
      "execution_count": 0,
      "outputs": []
    }
  ]
}